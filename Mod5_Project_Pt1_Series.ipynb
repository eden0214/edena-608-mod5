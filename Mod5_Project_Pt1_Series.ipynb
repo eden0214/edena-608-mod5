{
 "cells": [
  {
   "cell_type": "code",
   "execution_count": 1,
   "id": "555074ba-8cad-4388-9c2e-21830c091819",
   "metadata": {},
   "outputs": [],
   "source": [
    "import pandas as pd #1.3 - Mod5 Project "
   ]
  },
  {
   "cell_type": "code",
   "execution_count": 2,
   "id": "6740dbd6-f4b2-478e-bd52-49e1a7b7b50e",
   "metadata": {},
   "outputs": [],
   "source": [
    "grades = pd.Series([87, 100, 94]) #1.3"
   ]
  },
  {
   "cell_type": "code",
   "execution_count": 3,
   "id": "837a6fd1-7f67-41fc-b191-d3993b42b1a3",
   "metadata": {},
   "outputs": [
    {
     "data": {
      "text/plain": [
       "0     87\n",
       "1    100\n",
       "2     94\n",
       "dtype: int64"
      ]
     },
     "execution_count": 3,
     "metadata": {},
     "output_type": "execute_result"
    }
   ],
   "source": [
    "grades"
   ]
  },
  {
   "cell_type": "code",
   "execution_count": 4,
   "id": "00a57e57-4964-4d4f-b160-fe46a8c4476d",
   "metadata": {},
   "outputs": [
    {
     "data": {
      "text/plain": [
       "87"
      ]
     },
     "execution_count": 4,
     "metadata": {},
     "output_type": "execute_result"
    }
   ],
   "source": [
    "grades[0] #1.4"
   ]
  },
  {
   "cell_type": "code",
   "execution_count": 5,
   "id": "ec3adf8f-6aec-4e67-8481-cd635f4c448b",
   "metadata": {},
   "outputs": [
    {
     "data": {
      "text/plain": [
       "3"
      ]
     },
     "execution_count": 5,
     "metadata": {},
     "output_type": "execute_result"
    }
   ],
   "source": [
    "grades.count() #1.5"
   ]
  },
  {
   "cell_type": "code",
   "execution_count": 6,
   "id": "81412ba6-046a-43da-98c8-311b520dfd1b",
   "metadata": {},
   "outputs": [
    {
     "data": {
      "text/plain": [
       "93.66666666666667"
      ]
     },
     "execution_count": 6,
     "metadata": {},
     "output_type": "execute_result"
    }
   ],
   "source": [
    "grades.mean() #1.5"
   ]
  },
  {
   "cell_type": "code",
   "execution_count": 7,
   "id": "d80f8376-d074-4029-90d5-78ed0981b359",
   "metadata": {},
   "outputs": [
    {
     "data": {
      "text/plain": [
       "87"
      ]
     },
     "execution_count": 7,
     "metadata": {},
     "output_type": "execute_result"
    }
   ],
   "source": [
    "grades.min() #1.5"
   ]
  },
  {
   "cell_type": "code",
   "execution_count": 8,
   "id": "afe2daf2-6cd1-4e6c-995b-42377103d2f7",
   "metadata": {},
   "outputs": [
    {
     "data": {
      "text/plain": [
       "100"
      ]
     },
     "execution_count": 8,
     "metadata": {},
     "output_type": "execute_result"
    }
   ],
   "source": [
    "grades.max() #1.5"
   ]
  },
  {
   "cell_type": "code",
   "execution_count": 9,
   "id": "793f2e97-e7d3-4451-958d-b5987d33ce55",
   "metadata": {},
   "outputs": [
    {
     "data": {
      "text/plain": [
       "6.506407098647712"
      ]
     },
     "execution_count": 9,
     "metadata": {},
     "output_type": "execute_result"
    }
   ],
   "source": [
    "grades.std() #1.5"
   ]
  },
  {
   "cell_type": "code",
   "execution_count": 10,
   "id": "24e33b24-dc4f-4d7d-be09-b9dfd298067e",
   "metadata": {},
   "outputs": [
    {
     "data": {
      "text/plain": [
       "count      3.000000\n",
       "mean      93.666667\n",
       "std        6.506407\n",
       "min       87.000000\n",
       "25%       90.500000\n",
       "50%       94.000000\n",
       "75%       97.000000\n",
       "max      100.000000\n",
       "dtype: float64"
      ]
     },
     "execution_count": 10,
     "metadata": {},
     "output_type": "execute_result"
    }
   ],
   "source": [
    "grades.describe() #1.5"
   ]
  },
  {
   "cell_type": "code",
   "execution_count": 12,
   "id": "2385f458-7642-4566-a983-d6201b6793dd",
   "metadata": {},
   "outputs": [],
   "source": [
    "grades = pd.Series({'Wally': 87, 'Eva': 100, 'Sam': 94}) #1.6"
   ]
  },
  {
   "cell_type": "code",
   "execution_count": 13,
   "id": "584500ad-68e3-41e6-8c62-e869c5d1e406",
   "metadata": {},
   "outputs": [
    {
     "data": {
      "text/plain": [
       "Wally     87\n",
       "Eva      100\n",
       "Sam       94\n",
       "dtype: int64"
      ]
     },
     "execution_count": 13,
     "metadata": {},
     "output_type": "execute_result"
    }
   ],
   "source": [
    "grades"
   ]
  },
  {
   "cell_type": "code",
   "execution_count": 14,
   "id": "b3352574-092b-4e31-bf82-3980998fb26e",
   "metadata": {},
   "outputs": [
    {
     "data": {
      "text/plain": [
       "100"
      ]
     },
     "execution_count": 14,
     "metadata": {},
     "output_type": "execute_result"
    }
   ],
   "source": [
    "grades['Eva'] #1.7"
   ]
  },
  {
   "cell_type": "code",
   "execution_count": 15,
   "id": "233a3880-c011-4897-9866-4fe5a8ecadc6",
   "metadata": {},
   "outputs": [
    {
     "data": {
      "text/plain": [
       "87"
      ]
     },
     "execution_count": 15,
     "metadata": {},
     "output_type": "execute_result"
    }
   ],
   "source": [
    "grades.Wally #1.8"
   ]
  },
  {
   "cell_type": "code",
   "execution_count": 16,
   "id": "33dbd508-8b59-46c7-80b9-bcdf743878f0",
   "metadata": {},
   "outputs": [
    {
     "data": {
      "text/plain": [
       "array([ 87, 100,  94], dtype=int64)"
      ]
     },
     "execution_count": 16,
     "metadata": {},
     "output_type": "execute_result"
    }
   ],
   "source": [
    "grades.values #1.9"
   ]
  },
  {
   "cell_type": "code",
   "execution_count": null,
   "id": "cc65f20e-950e-4f70-ae3a-8de7715edf7c",
   "metadata": {},
   "outputs": [],
   "source": []
  }
 ],
 "metadata": {
  "kernelspec": {
   "display_name": "Python 3",
   "language": "python",
   "name": "python3"
  },
  "language_info": {
   "codemirror_mode": {
    "name": "ipython",
    "version": 3
   },
   "file_extension": ".py",
   "mimetype": "text/x-python",
   "name": "python",
   "nbconvert_exporter": "python",
   "pygments_lexer": "ipython3",
   "version": "3.8.11"
  }
 },
 "nbformat": 4,
 "nbformat_minor": 5
}
