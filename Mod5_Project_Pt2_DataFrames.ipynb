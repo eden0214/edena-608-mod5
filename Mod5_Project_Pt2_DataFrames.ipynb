{
 "cells": [
  {
   "cell_type": "code",
   "execution_count": 1,
   "id": "4970d27c-fb32-444f-94f7-7da5630c1d57",
   "metadata": {},
   "outputs": [],
   "source": [
    "import pandas as pd #2.4"
   ]
  },
  {
   "cell_type": "code",
   "execution_count": 2,
   "id": "aad738e4-cf50-4d0b-bebb-d74c921d0487",
   "metadata": {},
   "outputs": [],
   "source": [
    "grades_dict = {'Wally': [87, 96, 70], 'Eva': [100, 87, 90], #2.4\n",
    "               'Sam': [94, 77, 90], 'Katie':[100, 81, 82],\n",
    "               'Bob': [83, 65, 85]}"
   ]
  },
  {
   "cell_type": "code",
   "execution_count": 3,
   "id": "c1f24f7c-521f-41d2-89e5-b834a2eb581f",
   "metadata": {},
   "outputs": [],
   "source": [
    "grades = pd.DataFrame(grades_dict)"
   ]
  },
  {
   "cell_type": "code",
   "execution_count": 4,
   "id": "24215e4e-85a0-4d00-9a80-47ee58c1b1a4",
   "metadata": {},
   "outputs": [
    {
     "data": {
      "text/html": [
       "<div>\n",
       "<style scoped>\n",
       "    .dataframe tbody tr th:only-of-type {\n",
       "        vertical-align: middle;\n",
       "    }\n",
       "\n",
       "    .dataframe tbody tr th {\n",
       "        vertical-align: top;\n",
       "    }\n",
       "\n",
       "    .dataframe thead th {\n",
       "        text-align: right;\n",
       "    }\n",
       "</style>\n",
       "<table border=\"1\" class=\"dataframe\">\n",
       "  <thead>\n",
       "    <tr style=\"text-align: right;\">\n",
       "      <th></th>\n",
       "      <th>Wally</th>\n",
       "      <th>Eva</th>\n",
       "      <th>Sam</th>\n",
       "      <th>Katie</th>\n",
       "      <th>Bob</th>\n",
       "    </tr>\n",
       "  </thead>\n",
       "  <tbody>\n",
       "    <tr>\n",
       "      <th>0</th>\n",
       "      <td>87</td>\n",
       "      <td>100</td>\n",
       "      <td>94</td>\n",
       "      <td>100</td>\n",
       "      <td>83</td>\n",
       "    </tr>\n",
       "    <tr>\n",
       "      <th>1</th>\n",
       "      <td>96</td>\n",
       "      <td>87</td>\n",
       "      <td>77</td>\n",
       "      <td>81</td>\n",
       "      <td>65</td>\n",
       "    </tr>\n",
       "    <tr>\n",
       "      <th>2</th>\n",
       "      <td>70</td>\n",
       "      <td>90</td>\n",
       "      <td>90</td>\n",
       "      <td>82</td>\n",
       "      <td>85</td>\n",
       "    </tr>\n",
       "  </tbody>\n",
       "</table>\n",
       "</div>"
      ],
      "text/plain": [
       "   Wally  Eva  Sam  Katie  Bob\n",
       "0     87  100   94    100   83\n",
       "1     96   87   77     81   65\n",
       "2     70   90   90     82   85"
      ]
     },
     "execution_count": 4,
     "metadata": {},
     "output_type": "execute_result"
    }
   ],
   "source": [
    "grades"
   ]
  },
  {
   "cell_type": "code",
   "execution_count": 5,
   "id": "b20a6ebc-987a-4fc3-b05a-695a67783548",
   "metadata": {},
   "outputs": [],
   "source": [
    "grades.index = ['Test1', 'Test2', 'Test3'] #2.5"
   ]
  },
  {
   "cell_type": "code",
   "execution_count": 6,
   "id": "1e0659be-ed9a-4386-9c50-823e510d6262",
   "metadata": {},
   "outputs": [
    {
     "data": {
      "text/html": [
       "<div>\n",
       "<style scoped>\n",
       "    .dataframe tbody tr th:only-of-type {\n",
       "        vertical-align: middle;\n",
       "    }\n",
       "\n",
       "    .dataframe tbody tr th {\n",
       "        vertical-align: top;\n",
       "    }\n",
       "\n",
       "    .dataframe thead th {\n",
       "        text-align: right;\n",
       "    }\n",
       "</style>\n",
       "<table border=\"1\" class=\"dataframe\">\n",
       "  <thead>\n",
       "    <tr style=\"text-align: right;\">\n",
       "      <th></th>\n",
       "      <th>Wally</th>\n",
       "      <th>Eva</th>\n",
       "      <th>Sam</th>\n",
       "      <th>Katie</th>\n",
       "      <th>Bob</th>\n",
       "    </tr>\n",
       "  </thead>\n",
       "  <tbody>\n",
       "    <tr>\n",
       "      <th>Test1</th>\n",
       "      <td>87</td>\n",
       "      <td>100</td>\n",
       "      <td>94</td>\n",
       "      <td>100</td>\n",
       "      <td>83</td>\n",
       "    </tr>\n",
       "    <tr>\n",
       "      <th>Test2</th>\n",
       "      <td>96</td>\n",
       "      <td>87</td>\n",
       "      <td>77</td>\n",
       "      <td>81</td>\n",
       "      <td>65</td>\n",
       "    </tr>\n",
       "    <tr>\n",
       "      <th>Test3</th>\n",
       "      <td>70</td>\n",
       "      <td>90</td>\n",
       "      <td>90</td>\n",
       "      <td>82</td>\n",
       "      <td>85</td>\n",
       "    </tr>\n",
       "  </tbody>\n",
       "</table>\n",
       "</div>"
      ],
      "text/plain": [
       "       Wally  Eva  Sam  Katie  Bob\n",
       "Test1     87  100   94    100   83\n",
       "Test2     96   87   77     81   65\n",
       "Test3     70   90   90     82   85"
      ]
     },
     "execution_count": 6,
     "metadata": {},
     "output_type": "execute_result"
    }
   ],
   "source": [
    "grades"
   ]
  },
  {
   "cell_type": "code",
   "execution_count": 7,
   "id": "fb54ec8a-80dd-405a-b82f-2c8b61fc6638",
   "metadata": {},
   "outputs": [
    {
     "data": {
      "text/plain": [
       "Test1    100\n",
       "Test2     87\n",
       "Test3     90\n",
       "Name: Eva, dtype: int64"
      ]
     },
     "execution_count": 7,
     "metadata": {},
     "output_type": "execute_result"
    }
   ],
   "source": [
    "grades['Eva'] #2.6"
   ]
  },
  {
   "cell_type": "code",
   "execution_count": 8,
   "id": "6b0f4700-2904-47c7-bb96-45dc6910eef8",
   "metadata": {},
   "outputs": [
    {
     "data": {
      "text/plain": [
       "Test1    94\n",
       "Test2    77\n",
       "Test3    90\n",
       "Name: Sam, dtype: int64"
      ]
     },
     "execution_count": 8,
     "metadata": {},
     "output_type": "execute_result"
    }
   ],
   "source": [
    "grades.Sam #2.7"
   ]
  },
  {
   "cell_type": "code",
   "execution_count": 9,
   "id": "a6047b0a-b477-4fd1-94ce-a22700f1ecff",
   "metadata": {},
   "outputs": [
    {
     "data": {
      "text/plain": [
       "Wally     87\n",
       "Eva      100\n",
       "Sam       94\n",
       "Katie    100\n",
       "Bob       83\n",
       "Name: Test1, dtype: int64"
      ]
     },
     "execution_count": 9,
     "metadata": {},
     "output_type": "execute_result"
    }
   ],
   "source": [
    "grades.loc['Test1'] #2.8 - Prefer this method, as it is easier for me to not forget which numeric index to use"
   ]
  },
  {
   "cell_type": "code",
   "execution_count": 10,
   "id": "7d95977e-f703-4caf-a279-12db7c217fbb",
   "metadata": {},
   "outputs": [
    {
     "data": {
      "text/plain": [
       "Wally     87\n",
       "Eva      100\n",
       "Sam       94\n",
       "Katie    100\n",
       "Bob       83\n",
       "Name: Test1, dtype: int64"
      ]
     },
     "execution_count": 10,
     "metadata": {},
     "output_type": "execute_result"
    }
   ],
   "source": [
    "grades.iloc[0] #2.8"
   ]
  },
  {
   "cell_type": "code",
   "execution_count": 11,
   "id": "a8b82b7c-612f-4413-bfe5-c370c84e8c14",
   "metadata": {},
   "outputs": [
    {
     "data": {
      "text/plain": [
       "Wally    96\n",
       "Eva      87\n",
       "Sam      77\n",
       "Katie    81\n",
       "Bob      65\n",
       "Name: Test2, dtype: int64"
      ]
     },
     "execution_count": 11,
     "metadata": {},
     "output_type": "execute_result"
    }
   ],
   "source": [
    "grades.iloc[1] #2.8"
   ]
  },
  {
   "cell_type": "code",
   "execution_count": 12,
   "id": "867ad4f8-9b03-4a88-b424-682d7623a832",
   "metadata": {},
   "outputs": [
    {
     "data": {
      "text/plain": [
       "87"
      ]
     },
     "execution_count": 12,
     "metadata": {},
     "output_type": "execute_result"
    }
   ],
   "source": [
    "grades.at['Test2', 'Eva'] #2.10"
   ]
  },
  {
   "cell_type": "code",
   "execution_count": 13,
   "id": "1c444783-1aad-4206-95a0-b04d5c4cc790",
   "metadata": {},
   "outputs": [
    {
     "data": {
      "text/plain": [
       "70"
      ]
     },
     "execution_count": 13,
     "metadata": {},
     "output_type": "execute_result"
    }
   ],
   "source": [
    "grades.iat[2, 0] #2.11"
   ]
  },
  {
   "cell_type": "code",
   "execution_count": 14,
   "id": "1bd72812-678a-4096-8e4b-492bea72414d",
   "metadata": {},
   "outputs": [
    {
     "data": {
      "text/html": [
       "<div>\n",
       "<style scoped>\n",
       "    .dataframe tbody tr th:only-of-type {\n",
       "        vertical-align: middle;\n",
       "    }\n",
       "\n",
       "    .dataframe tbody tr th {\n",
       "        vertical-align: top;\n",
       "    }\n",
       "\n",
       "    .dataframe thead th {\n",
       "        text-align: right;\n",
       "    }\n",
       "</style>\n",
       "<table border=\"1\" class=\"dataframe\">\n",
       "  <thead>\n",
       "    <tr style=\"text-align: right;\">\n",
       "      <th></th>\n",
       "      <th>Wally</th>\n",
       "      <th>Eva</th>\n",
       "      <th>Sam</th>\n",
       "      <th>Katie</th>\n",
       "      <th>Bob</th>\n",
       "    </tr>\n",
       "  </thead>\n",
       "  <tbody>\n",
       "    <tr>\n",
       "      <th>count</th>\n",
       "      <td>3.000000</td>\n",
       "      <td>3.000000</td>\n",
       "      <td>3.000000</td>\n",
       "      <td>3.000000</td>\n",
       "      <td>3.000000</td>\n",
       "    </tr>\n",
       "    <tr>\n",
       "      <th>mean</th>\n",
       "      <td>84.333333</td>\n",
       "      <td>92.333333</td>\n",
       "      <td>87.000000</td>\n",
       "      <td>87.666667</td>\n",
       "      <td>77.666667</td>\n",
       "    </tr>\n",
       "    <tr>\n",
       "      <th>std</th>\n",
       "      <td>13.203535</td>\n",
       "      <td>6.806859</td>\n",
       "      <td>8.888194</td>\n",
       "      <td>10.692677</td>\n",
       "      <td>11.015141</td>\n",
       "    </tr>\n",
       "    <tr>\n",
       "      <th>min</th>\n",
       "      <td>70.000000</td>\n",
       "      <td>87.000000</td>\n",
       "      <td>77.000000</td>\n",
       "      <td>81.000000</td>\n",
       "      <td>65.000000</td>\n",
       "    </tr>\n",
       "    <tr>\n",
       "      <th>25%</th>\n",
       "      <td>78.500000</td>\n",
       "      <td>88.500000</td>\n",
       "      <td>83.500000</td>\n",
       "      <td>81.500000</td>\n",
       "      <td>74.000000</td>\n",
       "    </tr>\n",
       "    <tr>\n",
       "      <th>50%</th>\n",
       "      <td>87.000000</td>\n",
       "      <td>90.000000</td>\n",
       "      <td>90.000000</td>\n",
       "      <td>82.000000</td>\n",
       "      <td>83.000000</td>\n",
       "    </tr>\n",
       "    <tr>\n",
       "      <th>75%</th>\n",
       "      <td>91.500000</td>\n",
       "      <td>95.000000</td>\n",
       "      <td>92.000000</td>\n",
       "      <td>91.000000</td>\n",
       "      <td>84.000000</td>\n",
       "    </tr>\n",
       "    <tr>\n",
       "      <th>max</th>\n",
       "      <td>96.000000</td>\n",
       "      <td>100.000000</td>\n",
       "      <td>94.000000</td>\n",
       "      <td>100.000000</td>\n",
       "      <td>85.000000</td>\n",
       "    </tr>\n",
       "  </tbody>\n",
       "</table>\n",
       "</div>"
      ],
      "text/plain": [
       "           Wally         Eva        Sam       Katie        Bob\n",
       "count   3.000000    3.000000   3.000000    3.000000   3.000000\n",
       "mean   84.333333   92.333333  87.000000   87.666667  77.666667\n",
       "std    13.203535    6.806859   8.888194   10.692677  11.015141\n",
       "min    70.000000   87.000000  77.000000   81.000000  65.000000\n",
       "25%    78.500000   88.500000  83.500000   81.500000  74.000000\n",
       "50%    87.000000   90.000000  90.000000   82.000000  83.000000\n",
       "75%    91.500000   95.000000  92.000000   91.000000  84.000000\n",
       "max    96.000000  100.000000  94.000000  100.000000  85.000000"
      ]
     },
     "execution_count": 14,
     "metadata": {},
     "output_type": "execute_result"
    }
   ],
   "source": [
    "grades.describe() #2.12"
   ]
  },
  {
   "cell_type": "code",
   "execution_count": 15,
   "id": "5b095ace-e268-4b2f-9b1e-51af56c5a338",
   "metadata": {},
   "outputs": [
    {
     "data": {
      "text/plain": [
       "Wally    84.333333\n",
       "Eva      92.333333\n",
       "Sam      87.000000\n",
       "Katie    87.666667\n",
       "Bob      77.666667\n",
       "dtype: float64"
      ]
     },
     "execution_count": 15,
     "metadata": {},
     "output_type": "execute_result"
    }
   ],
   "source": [
    "grades.mean() #2.13"
   ]
  },
  {
   "cell_type": "code",
   "execution_count": 16,
   "id": "f3d8f9ef-183e-492c-b761-cf0b7288b0a5",
   "metadata": {},
   "outputs": [
    {
     "data": {
      "text/html": [
       "<div>\n",
       "<style scoped>\n",
       "    .dataframe tbody tr th:only-of-type {\n",
       "        vertical-align: middle;\n",
       "    }\n",
       "\n",
       "    .dataframe tbody tr th {\n",
       "        vertical-align: top;\n",
       "    }\n",
       "\n",
       "    .dataframe thead th {\n",
       "        text-align: right;\n",
       "    }\n",
       "</style>\n",
       "<table border=\"1\" class=\"dataframe\">\n",
       "  <thead>\n",
       "    <tr style=\"text-align: right;\">\n",
       "      <th></th>\n",
       "      <th>Wally</th>\n",
       "      <th>Eva</th>\n",
       "      <th>Sam</th>\n",
       "      <th>Katie</th>\n",
       "      <th>Bob</th>\n",
       "    </tr>\n",
       "  </thead>\n",
       "  <tbody>\n",
       "    <tr>\n",
       "      <th>Test3</th>\n",
       "      <td>70</td>\n",
       "      <td>90</td>\n",
       "      <td>90</td>\n",
       "      <td>82</td>\n",
       "      <td>85</td>\n",
       "    </tr>\n",
       "    <tr>\n",
       "      <th>Test2</th>\n",
       "      <td>96</td>\n",
       "      <td>87</td>\n",
       "      <td>77</td>\n",
       "      <td>81</td>\n",
       "      <td>65</td>\n",
       "    </tr>\n",
       "    <tr>\n",
       "      <th>Test1</th>\n",
       "      <td>87</td>\n",
       "      <td>100</td>\n",
       "      <td>94</td>\n",
       "      <td>100</td>\n",
       "      <td>83</td>\n",
       "    </tr>\n",
       "  </tbody>\n",
       "</table>\n",
       "</div>"
      ],
      "text/plain": [
       "       Wally  Eva  Sam  Katie  Bob\n",
       "Test3     70   90   90     82   85\n",
       "Test2     96   87   77     81   65\n",
       "Test1     87  100   94    100   83"
      ]
     },
     "execution_count": 16,
     "metadata": {},
     "output_type": "execute_result"
    }
   ],
   "source": [
    "grades.sort_index(ascending=False) #2.14"
   ]
  },
  {
   "cell_type": "code",
   "execution_count": 17,
   "id": "c40a2dab-f2e5-4794-a267-e3ae3d26520e",
   "metadata": {},
   "outputs": [
    {
     "data": {
      "text/html": [
       "<div>\n",
       "<style scoped>\n",
       "    .dataframe tbody tr th:only-of-type {\n",
       "        vertical-align: middle;\n",
       "    }\n",
       "\n",
       "    .dataframe tbody tr th {\n",
       "        vertical-align: top;\n",
       "    }\n",
       "\n",
       "    .dataframe thead th {\n",
       "        text-align: right;\n",
       "    }\n",
       "</style>\n",
       "<table border=\"1\" class=\"dataframe\">\n",
       "  <thead>\n",
       "    <tr style=\"text-align: right;\">\n",
       "      <th></th>\n",
       "      <th>Bob</th>\n",
       "      <th>Eva</th>\n",
       "      <th>Katie</th>\n",
       "      <th>Sam</th>\n",
       "      <th>Wally</th>\n",
       "    </tr>\n",
       "  </thead>\n",
       "  <tbody>\n",
       "    <tr>\n",
       "      <th>Test1</th>\n",
       "      <td>83</td>\n",
       "      <td>100</td>\n",
       "      <td>100</td>\n",
       "      <td>94</td>\n",
       "      <td>87</td>\n",
       "    </tr>\n",
       "    <tr>\n",
       "      <th>Test2</th>\n",
       "      <td>65</td>\n",
       "      <td>87</td>\n",
       "      <td>81</td>\n",
       "      <td>77</td>\n",
       "      <td>96</td>\n",
       "    </tr>\n",
       "    <tr>\n",
       "      <th>Test3</th>\n",
       "      <td>85</td>\n",
       "      <td>90</td>\n",
       "      <td>82</td>\n",
       "      <td>90</td>\n",
       "      <td>70</td>\n",
       "    </tr>\n",
       "  </tbody>\n",
       "</table>\n",
       "</div>"
      ],
      "text/plain": [
       "       Bob  Eva  Katie  Sam  Wally\n",
       "Test1   83  100    100   94     87\n",
       "Test2   65   87     81   77     96\n",
       "Test3   85   90     82   90     70"
      ]
     },
     "execution_count": 17,
     "metadata": {},
     "output_type": "execute_result"
    }
   ],
   "source": [
    "grades.sort_index(axis=1) #2.15"
   ]
  },
  {
   "cell_type": "code",
   "execution_count": null,
   "id": "e911c8d9-ef45-4c6f-9dd4-2da86b6b94e1",
   "metadata": {},
   "outputs": [],
   "source": []
  }
 ],
 "metadata": {
  "kernelspec": {
   "display_name": "Python 3",
   "language": "python",
   "name": "python3"
  },
  "language_info": {
   "codemirror_mode": {
    "name": "ipython",
    "version": 3
   },
   "file_extension": ".py",
   "mimetype": "text/x-python",
   "name": "python",
   "nbconvert_exporter": "python",
   "pygments_lexer": "ipython3",
   "version": "3.8.11"
  }
 },
 "nbformat": 4,
 "nbformat_minor": 5
}
